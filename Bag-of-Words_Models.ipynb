{
 "cells": [
  {
   "cell_type": "markdown",
   "metadata": {},
   "source": [
    "## Rotten Tomatoes review classification using bag-of-word models"
   ]
  },
  {
   "cell_type": "code",
   "execution_count": 1,
   "metadata": {
    "colab": {},
    "colab_type": "code",
    "id": "2c98rdnWClOH"
   },
   "outputs": [],
   "source": [
    "import numpy as np\n",
    "import pandas as pd\n",
    "import timeit\n",
    "import wordvecpy\n",
    "import matplotlib.pyplot as plt"
   ]
  },
  {
   "cell_type": "code",
   "execution_count": 2,
   "metadata": {
    "colab": {},
    "colab_type": "code",
    "id": "4iHv6NGzDim1"
   },
   "outputs": [],
   "source": [
    "df = pd.read_csv('C:/Users/steph/OneDrive/Documents/Data/rotten_tomatoes_reviews.csv')"
   ]
  },
  {
   "cell_type": "markdown",
   "metadata": {
    "colab_type": "text",
    "id": "FppMiBqNI-3j"
   },
   "source": [
    "Due to the size, we will only use the entire dataset to train the multinomial naive bayes and logistic regression model.  For the ensemble decision trees, only the first 10,000 rows of data will be used to train at first, then they will be compared and the best model developed will then be retrained on the full set of data.  Ths is because of the extremely long training time for both gradient boosted and random forest trees."
   ]
  },
  {
   "cell_type": "code",
   "execution_count": 3,
   "metadata": {
    "colab": {
     "base_uri": "https://localhost:8080/",
     "height": 204
    },
    "colab_type": "code",
    "id": "nf0Eja5oUvEz",
    "outputId": "6ebf7589-facb-4704-94e1-0acc62edc994"
   },
   "outputs": [],
   "source": [
    "processor = wordvecpy.TextProcessor(df['Review'], lemmatizer='nltk')\n",
    "df['Review'] = processor.transform(combined_strings=True)\n",
    "df_small = df[:10000]"
   ]
  },
  {
   "cell_type": "markdown",
   "metadata": {
    "colab_type": "text",
    "id": "7oH_lYVXcbXo"
   },
   "source": [
    "So first we transform our data into count matrix.  For multinomial naive-bayes and log reg, unigrams and bigrams will be used."
   ]
  },
  {
   "cell_type": "code",
   "execution_count": 4,
   "metadata": {
    "colab": {},
    "colab_type": "code",
    "id": "sNdnZuTTVuEE"
   },
   "outputs": [],
   "source": [
    "from sklearn.model_selection import train_test_split\n",
    "from sklearn.feature_extraction.text import TfidfTransformer, CountVectorizer\n",
    "\n",
    "x_train, x_test, y_train, y_test = train_test_split(df.Review, df.Freshness, test_size = 0.2, stratify=df.Freshness)\n",
    "\n",
    "counts = CountVectorizer(ngram_range=(1,2))\n",
    "x_train_counts = counts.fit_transform(x_train)\n",
    "x_test_counts = counts.transform(x_test)"
   ]
  },
  {
   "cell_type": "markdown",
   "metadata": {
    "colab_type": "text",
    "id": "zOz2psbscih7"
   },
   "source": [
    "The first model built will be using multinomial naive bayes"
   ]
  },
  {
   "cell_type": "code",
   "execution_count": 5,
   "metadata": {
    "colab": {
     "base_uri": "https://localhost:8080/",
     "height": 68
    },
    "colab_type": "code",
    "id": "PusaHJSoaVVc",
    "outputId": "30d56564-d63b-4584-992b-d44aea012b0c"
   },
   "outputs": [
    {
     "name": "stdout",
     "output_type": "stream",
     "text": [
      "\n",
      "Model: MultinomialNB(alpha=1.0, class_prior=None, fit_prior=True)\n",
      "\n",
      "Training accuracy: 0.9775078125\n",
      "\n",
      "Test score: 0.8771145833333334\n",
      "\n",
      "Time to train: 0.513\n",
      "\n"
     ]
    }
   ],
   "source": [
    "from sklearn.metrics import accuracy_score\n",
    "from sklearn.naive_bayes import MultinomialNB\n",
    "rando_seed = 0\n",
    "\n",
    "def fit_and_report(clf, x_tr, y_tr, x_te, y_te):\n",
    "    t0=timeit.default_timer()\n",
    "    clf.fit(x_tr, y_tr)\n",
    "    t1=timeit.default_timer()\n",
    "    print(\"\\nModel: {}\".format(clf))\n",
    "    t1=timeit.default_timer()\n",
    "    print(\"\\nTraining accuracy: {}\".format(accuracy_score(y_tr, clf.predict(x_tr))))\n",
    "    print(\"\\nTest score: {}\".format(accuracy_score(y_te, clf.predict(x_te))))\n",
    "    print('\\nTime to train: {}\\n'.format(round(t1-t0, 3)))\n",
    "    \n",
    "clf = MultinomialNB()\n",
    "fit_and_report(clf, x_train_counts, y_train, x_test_counts, y_test)"
   ]
  },
  {
   "cell_type": "markdown",
   "metadata": {
    "colab_type": "text",
    "id": "sZipyMR-cnfo"
   },
   "source": [
    "Now we have to transform our count matrix into a tf-idf matrix which we will use for the rest of the models"
   ]
  },
  {
   "cell_type": "code",
   "execution_count": 6,
   "metadata": {
    "colab": {},
    "colab_type": "code",
    "id": "z1d3W5M_bmY2"
   },
   "outputs": [],
   "source": [
    "tfidf = TfidfTransformer(norm='l2', sublinear_tf=True)\n",
    "x_train_tfidf = tfidf.fit_transform(x_train_counts)\n",
    "x_test_tfidf = tfidf.transform(x_test_counts)"
   ]
  },
  {
   "cell_type": "markdown",
   "metadata": {
    "colab_type": "text",
    "id": "z00mfmiMdBLp"
   },
   "source": [
    "Now we try logistic regression"
   ]
  },
  {
   "cell_type": "code",
   "execution_count": 7,
   "metadata": {
    "colab": {
     "base_uri": "https://localhost:8080/",
     "height": 357
    },
    "colab_type": "code",
    "id": "-i7eUV8ScXwH",
    "outputId": "33f50403-6c57-42b3-a954-17ca2edb868d"
   },
   "outputs": [
    {
     "name": "stdout",
     "output_type": "stream",
     "text": [
      "\n",
      "Tf-idf:\n",
      "\n"
     ]
    },
    {
     "name": "stderr",
     "output_type": "stream",
     "text": [
      "C:\\Users\\steph\\Anaconda3\\lib\\site-packages\\sklearn\\linear_model\\logistic.py:433: FutureWarning: Default solver will be changed to 'lbfgs' in 0.22. Specify a solver to silence this warning.\n",
      "  FutureWarning)\n"
     ]
    },
    {
     "name": "stdout",
     "output_type": "stream",
     "text": [
      "\n",
      "Model: LogisticRegression(C=1.0, class_weight=None, dual=False, fit_intercept=True,\n",
      "          intercept_scaling=1, max_iter=100, multi_class='warn',\n",
      "          n_jobs=None, penalty='l2', random_state=0, solver='warn',\n",
      "          tol=0.0001, verbose=0, warm_start=False)\n",
      "\n",
      "Training accuracy: 0.9170859375\n",
      "\n",
      "Test score: 0.8521875\n",
      "\n",
      "Time to train: 20.951\n",
      "\n",
      "\n",
      "Count: \n",
      "\n",
      "\n",
      "Model: LogisticRegression(C=1.0, class_weight=None, dual=False, fit_intercept=True,\n",
      "          intercept_scaling=1, max_iter=100, multi_class='warn',\n",
      "          n_jobs=None, penalty='l2', random_state=0, solver='warn',\n",
      "          tol=0.0001, verbose=0, warm_start=False)\n",
      "\n",
      "Training accuracy: 0.9959401041666667\n",
      "\n",
      "Test score: 0.8939270833333334\n",
      "\n",
      "Time to train: 99.686\n",
      "\n"
     ]
    }
   ],
   "source": [
    "from sklearn.linear_model import LogisticRegression\n",
    "\n",
    "def tfidf_and_counts(clf, x_train_counts, x_train_tfidf, y_train, x_test_counts, x_test_tfidf, y_test):\n",
    "    print('\\nTf-idf:\\n')\n",
    "    fit_and_report(clf, x_train_tfidf, y_train, x_test_tfidf, y_test)\n",
    "    print('\\nCount: \\n')\n",
    "    fit_and_report(clf, x_train_counts, y_train, x_test_counts, y_test)\n",
    "\n",
    "clf = LogisticRegression(random_state=rando_seed)\n",
    "tfidf_and_counts(clf, x_train_counts, x_train_tfidf, y_train, x_test_counts, x_test_tfidf, y_test)"
   ]
  },
  {
   "cell_type": "markdown",
   "metadata": {},
   "source": [
    "We resplit the small dataframe into train and test and regenerate the count matrix and tf-idf matrix.  These models will be trained with only unigrams."
   ]
  },
  {
   "cell_type": "code",
   "execution_count": 8,
   "metadata": {},
   "outputs": [],
   "source": [
    "x_train_small, x_test_small, y_train_small, y_test_small = train_test_split(df_small.Review, df_small.Freshness, \n",
    "                                                                            test_size = 0.2, stratify=df_small.Freshness)\n",
    "\n",
    "counts_small = CountVectorizer()\n",
    "x_train_counts_small = counts_small.fit_transform(x_train_small)\n",
    "x_test_counts_small = counts_small.transform(x_test_small)\n",
    "\n",
    "tfidf_small = TfidfTransformer(norm='l2', sublinear_tf=True)\n",
    "x_train_tfidf_small = tfidf.fit_transform(x_train_counts_small)\n",
    "x_test_tfidf_small = tfidf.transform(x_test_counts_small)"
   ]
  },
  {
   "cell_type": "markdown",
   "metadata": {
    "colab_type": "text",
    "id": "Q_nkXJk6evAK"
   },
   "source": [
    "Now for a gradient boosted tree ensemble."
   ]
  },
  {
   "cell_type": "code",
   "execution_count": null,
   "metadata": {
    "colab": {
     "base_uri": "https://localhost:8080/",
     "height": 391
    },
    "colab_type": "code",
    "id": "6KSd1rsxc2Cv",
    "outputId": "b0a33096-1902-4e74-d4a9-af5ef0d23f34"
   },
   "outputs": [
    {
     "name": "stdout",
     "output_type": "stream",
     "text": [
      "\n",
      "Tf-idf:\n",
      "\n",
      "\n",
      "Model: XGBClassifier(base_score=0.5, booster='gbtree', colsample_bylevel=1,\n",
      "       colsample_bynode=1, colsample_bytree=1, gamma=0, learning_rate=0.1,\n",
      "       max_delta_step=0, max_depth=3, min_child_weight=1, missing=None,\n",
      "       n_estimators=200, n_jobs=1, nthread=None,\n",
      "       objective='binary:logistic', random_state=0, reg_alpha=0,\n",
      "       reg_lambda=1, scale_pos_weight=1, seed=None, silent=None,\n",
      "       subsample=1, verbosity=1)\n",
      "\n",
      "Training accuracy: 0.73025\n",
      "\n",
      "Test score: 0.652\n",
      "\n",
      "Time to train: 34.074\n",
      "\n",
      "\n",
      "Count: \n",
      "\n",
      "\n",
      "Model: XGBClassifier(base_score=0.5, booster='gbtree', colsample_bylevel=1,\n",
      "       colsample_bynode=1, colsample_bytree=1, gamma=0, learning_rate=0.1,\n",
      "       max_delta_step=0, max_depth=3, min_child_weight=1, missing=None,\n",
      "       n_estimators=200, n_jobs=1, nthread=None,\n",
      "       objective='binary:logistic', random_state=0, reg_alpha=0,\n",
      "       reg_lambda=1, scale_pos_weight=1, seed=None, silent=None,\n",
      "       subsample=1, verbosity=1)\n",
      "\n",
      "Training accuracy: 0.708875\n",
      "\n",
      "Test score: 0.653\n",
      "\n",
      "Time to train: 16.484\n",
      "\n"
     ]
    }
   ],
   "source": [
    "from xgboost import XGBClassifier\n",
    "\n",
    "clf = XGBClassifier(n_estimators=200, random_state=rando_seed)\n",
    "tfidf_and_counts(clf, x_train_counts_small, x_train_tfidf_small, y_train_small, x_test_counts_small, \n",
    "                 x_test_tfidf_small, y_test_small)"
   ]
  },
  {
   "cell_type": "markdown",
   "metadata": {
    "colab_type": "text",
    "id": "fpCOAwYqeyax"
   },
   "source": [
    "Now for a random forest."
   ]
  },
  {
   "cell_type": "code",
   "execution_count": null,
   "metadata": {
    "colab": {
     "base_uri": "https://localhost:8080/",
     "height": 391
    },
    "colab_type": "code",
    "id": "ryaBOJJhdHxA",
    "outputId": "2dcc43f0-db78-4917-82a6-279e5d7fb5a0"
   },
   "outputs": [
    {
     "name": "stdout",
     "output_type": "stream",
     "text": [
      "\n",
      "Tf-idf:\n",
      "\n",
      "\n",
      "Model: RandomForestClassifier(bootstrap=True, class_weight=None, criterion='gini',\n",
      "            max_depth=None, max_features='auto', max_leaf_nodes=None,\n",
      "            min_impurity_decrease=0.0, min_impurity_split=None,\n",
      "            min_samples_leaf=1, min_samples_split=2,\n",
      "            min_weight_fraction_leaf=0.0, n_estimators=200, n_jobs=-1,\n",
      "            oob_score=False, random_state=0, verbose=0, warm_start=False)\n",
      "\n",
      "Training accuracy: 1.0\n",
      "\n",
      "Test score: 0.6765\n",
      "\n",
      "Time to train: 8.23\n",
      "\n",
      "\n",
      "Count: \n",
      "\n",
      "\n",
      "Model: RandomForestClassifier(bootstrap=True, class_weight=None, criterion='gini',\n",
      "            max_depth=None, max_features='auto', max_leaf_nodes=None,\n",
      "            min_impurity_decrease=0.0, min_impurity_split=None,\n",
      "            min_samples_leaf=1, min_samples_split=2,\n",
      "            min_weight_fraction_leaf=0.0, n_estimators=200, n_jobs=-1,\n",
      "            oob_score=False, random_state=0, verbose=0, warm_start=False)\n",
      "\n",
      "Training accuracy: 1.0\n",
      "\n",
      "Test score: 0.6915\n",
      "\n",
      "Time to train: 8.692\n",
      "\n"
     ]
    }
   ],
   "source": [
    "from sklearn.ensemble import RandomForestClassifier\n",
    "\n",
    "clf = RandomForestClassifier(n_estimators=200, n_jobs=-1, random_state=rando_seed)\n",
    "tfidf_and_counts(clf, x_train_counts_small, x_train_tfidf_small, y_train_small, x_test_counts_small, \n",
    "                 x_test_tfidf_small, y_test_small)"
   ]
  },
  {
   "cell_type": "markdown",
   "metadata": {
    "colab_type": "text",
    "id": "eiVJwe823W9z"
   },
   "source": [
    "So random forest classifier outperforms the gradient boosted decision tree.  Now we run a quick check to estimate how many estimators optimizes test accuracy on the random forest."
   ]
  },
  {
   "cell_type": "code",
   "execution_count": null,
   "metadata": {
    "colab": {
     "base_uri": "https://localhost:8080/",
     "height": 796
    },
    "colab_type": "code",
    "id": "r7B3pNlXfF5a",
    "outputId": "87dfc892-7dd6-4fff-8929-0b98e48961ca"
   },
   "outputs": [
    {
     "name": "stderr",
     "output_type": "stream",
     "text": [
      "100%|██████████████████████████████████████████████████████████████████████████████████| 19/19 [16:54<00:00, 86.45s/it]\n"
     ]
    },
    {
     "data": {
      "text/plain": [
       "[<matplotlib.lines.Line2D at 0x19bc526bba8>]"
      ]
     },
     "execution_count": 11,
     "metadata": {},
     "output_type": "execute_result"
    },
    {
     "data": {
      "image/png": "[encoded data removed]",
      "text/plain": [
       "<Figure size 432x288 with 1 Axes>"
      ]
     },
     "metadata": {
      "needs_background": "light"
     },
     "output_type": "display_data"
    }
   ],
   "source": [
    "import tqdm\n",
    "\n",
    "acc_range = []\n",
    "acc = []\n",
    "\n",
    "for n in tqdm.tqdm(range(100, 2000, 100)):\n",
    "    clf = RandomForestClassifier(n_estimators=n, n_jobs=-1, random_state=rando_seed)\n",
    "    clf.fit(x_train_counts_small, y_train_small)\n",
    "    acc_range.append(n)\n",
    "    acc.append(accuracy_score(y_test_small, clf.predict(x_test_counts_small)))\n",
    "\n",
    "plt.plot(acc_range, acc, marker='o', ls='-')"
   ]
  },
  {
   "cell_type": "markdown",
   "metadata": {
    "colab_type": "text",
    "id": "2CiKL0deMfE6"
   },
   "source": [
    "**Ouch**, that's a lot of non-uniform variation.  Really, though, the difference between the bottom and the top is only 0.6%.  1250 looks like the safest number of estimators to pick.  Let's see what the tf-idf random forests look like."
   ]
  },
  {
   "cell_type": "code",
   "execution_count": null,
   "metadata": {},
   "outputs": [
    {
     "name": "stderr",
     "output_type": "stream",
     "text": [
      "100%|█████████████████████████████████████████████████████████████████████████████████| 19/19 [21:54<00:00, 123.98s/it]\n"
     ]
    },
    {
     "data": {
      "text/plain": [
       "[<matplotlib.lines.Line2D at 0x19bbc74b940>]"
      ]
     },
     "execution_count": 12,
     "metadata": {},
     "output_type": "execute_result"
    },
    {
     "data": {
      "image/png": "[encoded data removed]",
      "text/plain": [
       "<Figure size 432x288 with 1 Axes>"
      ]
     },
     "metadata": {
      "needs_background": "light"
     },
     "output_type": "display_data"
    }
   ],
   "source": [
    "acc_range = []\n",
    "acc = []\n",
    "\n",
    "for n in tqdm.tqdm(range(100, 2000, 100)):\n",
    "    clf = RandomForestClassifier(n_estimators=n, n_jobs=2, random_state=rando_seed)\n",
    "    clf.fit(x_train_tfidf_small, y_train_small)\n",
    "    acc_range.append(n)\n",
    "    acc.append(accuracy_score(y_test_small, clf.predict(x_test_tfidf_small)))\n",
    "\n",
    "plt.plot(acc_range, acc, marker='o', ls='-')"
   ]
  },
  {
   "cell_type": "markdown",
   "metadata": {},
   "source": [
    "While this plot is more uniform, it appears as though the peak accuracy with tf-idf is not much better than the mid-accuracy with straight word counts."
   ]
  },
  {
   "cell_type": "code",
   "execution_count": null,
   "metadata": {
    "colab": {
     "base_uri": "https://localhost:8080/",
     "height": 51
    },
    "colab_type": "code",
    "id": "siB2IzluvgW1",
    "outputId": "6a095306-290b-436a-e614-e45704f3e031"
   },
   "outputs": [],
   "source": [
    "#unigram_counts = CountVectorizer()\n",
    "#x_train_counts = unigram_counts.fit_transform(x_train)\n",
    "#x_test_counts = unigram_counts.transform(x_test)\n",
    "\n",
    "#clf = RandomForestClassifier(n_estimators=1250, n_jobs=1, random_state=rando_seed)\n",
    "\n",
    "#fit_and_report(clf, x_train_counts, y_train, x_test_counts, y_test)"
   ]
  },
  {
   "attachments": {
    "image.png": {
     "image/png": "[encoded data removed]"
    }
   },
   "cell_type": "markdown",
   "metadata": {
    "colab": {},
    "colab_type": "code",
    "id": "VL-nEt7fNjii"
   },
   "source": [
    "The above model takes a long time to train, so I left it running (for a few days) on a separate computer.  The output from the model developed is shown below:\n",
    "\n",
    "\n",
    "![image.png](attachment:image.png)"
   ]
  },
  {
   "cell_type": "markdown",
   "metadata": {},
   "source": [
    "The \"Time to train\" listed above is in seconds, so it equates to over 21 hours training this model *on unigrams.*  This is compared to getting 89% accuracy on the test set with simple logistic regression in only *a minute and a half* with bigrams.  Clearly traditional methods such as logistic regression and multinomial naive-bayes are the best performers here.  It should be noted that all of these models are decently overfit."
   ]
  }
 ],
 "metadata": {
  "accelerator": "GPU",
  "colab": {
   "collapsed_sections": [],
   "name": "Rotten Tomato Review bag-of-words.ipynb",
   "provenance": [],
   "version": "0.3.2"
  },
  "kernelspec": {
   "display_name": "Python 3",
   "language": "python",
   "name": "python3"
  },
  "language_info": {
   "codemirror_mode": {
    "name": "ipython",
    "version": 3
   },
   "file_extension": ".py",
   "mimetype": "text/x-python",
   "name": "python",
   "nbconvert_exporter": "python",
   "pygments_lexer": "ipython3",
   "version": "3.7.3"
  }
 },
 "nbformat": 4,
 "nbformat_minor": 1
}
